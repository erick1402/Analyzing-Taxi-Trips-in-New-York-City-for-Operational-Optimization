{
 "cells": [
  {
   "cell_type": "markdown",
   "id": "dd960b06",
   "metadata": {},
   "source": [
    "## Import Needed Libraries"
   ]
  },
  {
   "cell_type": "code",
   "execution_count": 3,
   "id": "6fdf2f7f",
   "metadata": {},
   "outputs": [],
   "source": [
    "from pyspark.sql.functions import *\n",
    "from pyspark.sql import Window\n",
    "from pyspark.sql.types import *\n",
    "import pandas as pd\n",
    "from pyspark.sql import SparkSession\n",
    "from pyspark.sql.functions import isnan, when, count, col\n",
    "from shapely.geometry import shape, Point\n",
    "import geopandas as gpd\n",
    "import json\n",
    "from matplotlib import pyplot as plt"
   ]
  },
  {
   "cell_type": "markdown",
   "id": "f16da2f1",
   "metadata": {},
   "source": [
    "## Spark Session Creation"
   ]
  },
  {
   "cell_type": "code",
   "execution_count": 4,
   "id": "697b667d",
   "metadata": {},
   "outputs": [
    {
     "name": "stderr",
     "output_type": "stream",
     "text": [
      "23/11/19 08:24:09 WARN NativeCodeLoader: Unable to load native-hadoop library for your platform... using builtin-java classes where applicable\n",
      "Using Spark's default log4j profile: org/apache/spark/log4j-defaults.properties\n",
      "Setting default log level to \"WARN\".\n",
      "To adjust logging level use sc.setLogLevel(newLevel). For SparkR, use setLogLevel(newLevel).\n"
     ]
    }
   ],
   "source": [
    "# Set the configuration for native Hadoop libraries\n",
    "spark = SparkSession.builder \\\n",
    "    .appName(\"MySparkApp\") \\\n",
    "    .config(\"spark.hadoop.fs.AbstractFileSystem.s3a.impl\", \"org.apache.hadoop.fs.s3a.S3AFileSystem\") \\\n",
    "    .getOrCreate()"
   ]
  },
  {
   "cell_type": "code",
   "execution_count": 5,
   "id": "2614a563",
   "metadata": {},
   "outputs": [],
   "source": [
    "spark.conf.set(\"spark.hadoop.fs.AbstractFileSystem.s3a.impl\", \"org.apache.hadoop.fs.s3a.S3AFileSystem\")\n"
   ]
  },
  {
   "cell_type": "markdown",
   "id": "aa3e9a81",
   "metadata": {},
   "source": [
    "## Data Loading"
   ]
  },
  {
   "cell_type": "code",
   "execution_count": 10,
   "id": "fd749bdc",
   "metadata": {},
   "outputs": [],
   "source": [
    "# SparkSession Initialization\n",
    "spark = SparkSession.builder \\\n",
    "    .appName(\"MySparkApp\") \\\n",
    "    .getOrCreate()\n",
    "\n",
    "# load the data\n",
    "df = spark.read.csv(\"local/Sample_NYC_Data.csv\", header=True, inferSchema=True)\n"
   ]
  },
  {
   "cell_type": "code",
   "execution_count": 11,
   "id": "dd682c53",
   "metadata": {},
   "outputs": [
    {
     "name": "stdout",
     "output_type": "stream",
     "text": [
      "+--------------------+--------------------+---------+---------+------------------+---------------+----------------+---------------+----------------+---------------+-----------------+----------------+\n",
      "|           medallion|        hack_license|vendor_id|rate_code|store_and_fwd_flag|pickup_datetime|dropoff_datetime|passenger_count|pickup_longitude|pickup_latitude|dropoff_longitude|dropoff_latitude|\n",
      "+--------------------+--------------------+---------+---------+------------------+---------------+----------------+---------------+----------------+---------------+-----------------+----------------+\n",
      "|89D227B655E5C82AE...|BA96DE419E711691B...|      CMT|        1|                 N| 01-01-13 15:11|  01-01-13 15:18|              4|      -73.978165|      40.757977|       -73.989838|       40.751171|\n",
      "|0BD7C8F5BA12B88E0...|9FD8F69F0804BDB55...|      CMT|        1|                 N|  06-01-13 0:18|   06-01-13 0:22|              1|      -74.006683|      40.731781|       -73.994499|        40.75066|\n",
      "|0BD7C8F5BA12B88E0...|9FD8F69F0804BDB55...|      CMT|        1|                 N| 05-01-13 18:49|  05-01-13 18:54|              1|      -74.004707|       40.73777|       -74.009834|       40.726002|\n",
      "|DFD2202EE08F7A8DC...|51EE87E3205C985EF...|      CMT|        1|                 N| 07-01-13 23:54|  07-01-13 23:58|              2|      -73.974602|      40.759945|       -73.984734|       40.759388|\n",
      "|DFD2202EE08F7A8DC...|51EE87E3205C985EF...|      CMT|        1|                 N| 07-01-13 23:25|  07-01-13 23:34|              1|       -73.97625|      40.748528|       -74.002586|       40.747868|\n",
      "|20D9ECB2CA0767CF7...|598CCE5B9C1918568...|      CMT|        1|                 N| 07-01-13 15:27|  07-01-13 15:38|              1|      -73.966743|      40.764252|       -73.983322|       40.743763|\n",
      "|496644932DF393260...|513189AD756FF14FE...|      CMT|        1|                 N| 08-01-13 11:01|  08-01-13 11:08|              1|      -73.995804|      40.743977|       -74.007416|       40.744343|\n",
      "|0B57B9633A2FECD3D...|CCD4367B417ED6634...|      CMT|        1|                 N| 07-01-13 12:39|  07-01-13 13:10|              3|      -73.989937|      40.756775|        -73.86525|        40.77063|\n",
      "|2C0E91FF20A856C89...|1DA2F6543A62B8ED9...|      CMT|        1|                 N| 07-01-13 18:15|  07-01-13 18:20|              1|      -73.980072|      40.743137|       -73.982712|       40.735336|\n",
      "|2D4B95E2FA7B2E851...|CD2F522EEE1FF5F5A...|      CMT|        1|                 N| 07-01-13 15:33|  07-01-13 15:49|              2|      -73.977936|      40.786983|       -73.952919|        40.80637|\n",
      "|E12F6AF991172EAC3...|06918214E951FA000...|      CMT|        1|                 N| 08-01-13 13:11|  08-01-13 13:19|              1|      -73.982452|      40.773167|       -73.964134|       40.773815|\n",
      "|E12F6AF991172EAC3...|06918214E951FA000...|      CMT|        1|                 N|  08-01-13 9:50|  08-01-13 10:02|              1|       -73.99556|      40.749294|       -73.988686|       40.759052|\n",
      "|78FFD9CD0CDA541F3...|E949C583ECF62C8F0...|      CMT|        1|                 N| 10-01-13 12:07|  10-01-13 12:17|              1|      -73.971497|      40.791321|       -73.964478|       40.775921|\n",
      "|237F49C3ECC11F502...|93C363DDF8ED9385D...|      CMT|        1|                 N|  07-01-13 7:35|   07-01-13 7:46|              1|       -73.98851|      40.774307|       -73.981094|       40.755325|\n",
      "|3349F919AA8AE5DC9...|7CE849FEF67514F08...|      CMT|        1|                 N| 10-01-13 15:42|  10-01-13 16:04|              1|      -73.994911|      40.723221|       -73.971558|       40.761612|\n",
      "|3349F919AA8AE5DC9...|7CE849FEF67514F08...|      CMT|        1|                 N| 10-01-13 14:27|  10-01-13 14:45|              1|      -74.010391|      40.708702|       -73.987846|       40.756104|\n",
      "|4C005EEBAA7BF26B8...|351BE7D984BE17DB2...|      CMT|        1|                 N| 07-01-13 22:09|  07-01-13 22:19|              1|      -73.973732|      40.756287|       -73.998413|       40.756832|\n",
      "|7D99C30FCE69B1A9D...|460C3F57DD9CB2265...|      CMT|        1|                 N| 07-01-13 17:18|  07-01-13 17:20|              1|      -73.968925|      40.767704|        -73.96199|       40.776566|\n",
      "|E6FBF80668FE0611A...|36773E80775F26CD1...|      CMT|        1|                 N|  07-01-13 6:08|   07-01-13 6:13|              1|       -73.96212|      40.769737|       -73.979561|        40.75539|\n",
      "|0C5296F3C8B16E702...|D2363240A9295EF57...|      CMT|        1|                 N| 07-01-13 22:25|  07-01-13 22:36|              1|      -73.989708|      40.756714|       -73.977615|       40.787575|\n",
      "+--------------------+--------------------+---------+---------+------------------+---------------+----------------+---------------+----------------+---------------+-----------------+----------------+\n",
      "only showing top 20 rows\n",
      "\n"
     ]
    }
   ],
   "source": [
    "#show the data\n",
    "df.show()"
   ]
  },
  {
   "cell_type": "markdown",
   "id": "16048191",
   "metadata": {},
   "source": [
    "## Data Preprocessing"
   ]
  },
  {
   "cell_type": "code",
   "execution_count": 13,
   "id": "df9f8f2f",
   "metadata": {},
   "outputs": [],
   "source": [
    "# Create an alias 'df' for DataFrame 'df'\n",
    "df_1 = df.alias('df')\n"
   ]
  },
  {
   "cell_type": "code",
   "execution_count": 14,
   "id": "c6b33a63",
   "metadata": {},
   "outputs": [],
   "source": [
    "# Select specific columns from DataFrame 'df1'\n",
    "df_1 = df_1.select(\"medallion\", \"hack_license\", \"pickup_datetime\", \"dropoff_datetime\", \"passenger_count\",\n",
    "                 \"pickup_longitude\", \"pickup_latitude\", \"dropoff_longitude\", \"dropoff_latitude\")\n"
   ]
  },
  {
   "cell_type": "code",
   "execution_count": 15,
   "id": "5a608d9b",
   "metadata": {},
   "outputs": [
    {
     "name": "stdout",
     "output_type": "stream",
     "text": [
      "root\n",
      " |-- medallion: string (nullable = true)\n",
      " |-- hack_license: string (nullable = true)\n",
      " |-- pickup_datetime: string (nullable = true)\n",
      " |-- dropoff_datetime: string (nullable = true)\n",
      " |-- passenger_count: integer (nullable = true)\n",
      " |-- pickup_longitude: double (nullable = true)\n",
      " |-- pickup_latitude: double (nullable = true)\n",
      " |-- dropoff_longitude: double (nullable = true)\n",
      " |-- dropoff_latitude: double (nullable = true)\n",
      "\n"
     ]
    }
   ],
   "source": [
    "# Print the schema of DataFrame 'df_1'\n",
    "df_1.printSchema()\n"
   ]
  },
  {
   "cell_type": "code",
   "execution_count": 17,
   "id": "2dc0644f",
   "metadata": {},
   "outputs": [],
   "source": [
    "# Describe the 'passenger_count' column and convert the result to a Pandas DataFrame\n",
    "passenger_count_description = df_1.select('passenger_count').describe().toPandas()\n"
   ]
  },
  {
   "cell_type": "code",
   "execution_count": 18,
   "id": "734178dd",
   "metadata": {},
   "outputs": [
    {
     "data": {
      "text/html": [
       "<div>\n",
       "<style scoped>\n",
       "    .dataframe tbody tr th:only-of-type {\n",
       "        vertical-align: middle;\n",
       "    }\n",
       "\n",
       "    .dataframe tbody tr th {\n",
       "        vertical-align: top;\n",
       "    }\n",
       "\n",
       "    .dataframe thead th {\n",
       "        text-align: right;\n",
       "    }\n",
       "</style>\n",
       "<table border=\"1\" class=\"dataframe\">\n",
       "  <thead>\n",
       "    <tr style=\"text-align: right;\">\n",
       "      <th></th>\n",
       "      <th>summary</th>\n",
       "      <th>passenger_count</th>\n",
       "    </tr>\n",
       "  </thead>\n",
       "  <tbody>\n",
       "    <tr>\n",
       "      <th>0</th>\n",
       "      <td>count</td>\n",
       "      <td>99999</td>\n",
       "    </tr>\n",
       "    <tr>\n",
       "      <th>1</th>\n",
       "      <td>mean</td>\n",
       "      <td>2.1630016300163</td>\n",
       "    </tr>\n",
       "    <tr>\n",
       "      <th>2</th>\n",
       "      <td>stddev</td>\n",
       "      <td>1.7398882948433556</td>\n",
       "    </tr>\n",
       "    <tr>\n",
       "      <th>3</th>\n",
       "      <td>min</td>\n",
       "      <td>0</td>\n",
       "    </tr>\n",
       "    <tr>\n",
       "      <th>4</th>\n",
       "      <td>max</td>\n",
       "      <td>6</td>\n",
       "    </tr>\n",
       "  </tbody>\n",
       "</table>\n",
       "</div>"
      ],
      "text/plain": [
       "  summary     passenger_count\n",
       "0   count               99999\n",
       "1    mean     2.1630016300163\n",
       "2  stddev  1.7398882948433556\n",
       "3     min                   0\n",
       "4     max                   6"
      ]
     },
     "execution_count": 18,
     "metadata": {},
     "output_type": "execute_result"
    }
   ],
   "source": [
    "passenger_count_description"
   ]
  },
  {
   "cell_type": "code",
   "execution_count": 19,
   "id": "574adc08",
   "metadata": {},
   "outputs": [
    {
     "name": "stderr",
     "output_type": "stream",
     "text": [
      "                                                                                \r"
     ]
    },
    {
     "data": {
      "image/png": "[encoded data removed]",
      "text/plain": [
       "<Figure size 1000x600 with 1 Axes>"
      ]
     },
     "metadata": {},
     "output_type": "display_data"
    }
   ],
   "source": [
    "# Select the 'passenger_count' column\n",
    "passenger_count = df_1.select(\"passenger_count\")\n",
    "\n",
    "# Convert the column to a Python list\n",
    "passenger_count_list = passenger_count.rdd.flatMap(lambda x: x).collect()\n",
    "\n",
    "# Create a histogram\n",
    "plt.figure(figsize=(10, 6))\n",
    "plt.hist(passenger_count_list, bins=range(1, 7), align='left', rwidth=0.8)\n",
    "plt.xlabel(\"Number of Passengers\")\n",
    "plt.ylabel(\"Number of Trips\")\n",
    "plt.title(\"Distribution of Passengers per Trip\")\n",
    "plt.xticks(range(1, 7))\n",
    "plt.grid(axis='y', alpha=0.75)\n",
    "\n",
    "# Display the histogram\n",
    "plt.show()\n"
   ]
  },
  {
   "cell_type": "code",
   "execution_count": 21,
   "id": "83bb2172",
   "metadata": {},
   "outputs": [
    {
     "name": "stdout",
     "output_type": "stream",
     "text": [
      "+---------+------------+---------------+----------------+---------------+----------------+---------------+-----------------+----------------+\n",
      "|medallion|hack_license|pickup_datetime|dropoff_datetime|passenger_count|pickup_longitude|pickup_latitude|dropoff_longitude|dropoff_latitude|\n",
      "+---------+------------+---------------+----------------+---------------+----------------+---------------+-----------------+----------------+\n",
      "|        0|           0|              0|               0|              0|               0|              0|                0|               0|\n",
      "+---------+------------+---------------+----------------+---------------+----------------+---------------+-----------------+----------------+\n",
      "\n"
     ]
    }
   ],
   "source": [
    "# Count the null values for each column in DataFrame 'df1'\n",
    "null_counts = df_1.select([sum(col(c).isNull().cast(\"int\")).alias(c) for c in df_1.columns])\n",
    "\n",
    "# Display the null counts\n",
    "null_counts.show()\n"
   ]
  },
  {
   "cell_type": "markdown",
   "id": "474fb074",
   "metadata": {},
   "source": [
    "## Geographical Distribution Analysis"
   ]
  },
  {
   "cell_type": "code",
   "execution_count": 22,
   "id": "79f0abb0",
   "metadata": {},
   "outputs": [
    {
     "data": {
      "image/png": "[encoded data removed]",
      "text/plain": [
       "<Figure size 1200x600 with 2 Axes>"
      ]
     },
     "metadata": {},
     "output_type": "display_data"
    }
   ],
   "source": [
    "# Load the GeoDataFrame 'pickup_boroughs' from a local folder\n",
    "pickup_boroughs = gpd.read_file(\"local/nyc-boroughs.geojson\")\n",
    "\n",
    "# Load the GeoDataFrame 'dropoff_boroughs' from a  local folder\n",
    "dropoff_boroughs = gpd.read_file(\"local/nyc-boroughs.geojson\")\n",
    "\n",
    "# Create subplots for side-by-side comparison\n",
    "fig, ax = plt.subplots(1, 2, figsize=(12, 6))\n",
    "\n",
    "# Plot pickup points by borough\n",
    "pickup_boroughs.plot(column='borough', legend=True, ax=ax[0])\n",
    "ax[0].set_title(\"Pickup Points by Borough\")\n",
    "\n",
    "# Plot drop-off points by borough\n",
    "dropoff_boroughs.plot(column='borough', legend=True, ax=ax[1])\n",
    "ax[1].set_title(\"Drop-off Points by Borough\")\n",
    "\n",
    "# Assuming you have the 'pickup_boroughs' and 'dropoff_boroughs' GeoDataFrames\n",
    "\n",
    "plt.show()\n"
   ]
  },
  {
   "cell_type": "code",
   "execution_count": 24,
   "id": "927c53f4",
   "metadata": {},
   "outputs": [
    {
     "name": "stderr",
     "output_type": "stream",
     "text": [
      "/tmp/ipykernel_18/3420579718.py:5: UserWarning: Geometry is in a geographic CRS. Results from 'area' are likely incorrect. Use 'GeoSeries.to_crs()' to re-project geometries to a projected CRS before this operation.\n",
      "\n",
      "  gdf['area'] = gdf.geometry.area\n",
      "[Stage 15:>                                                         (0 + 1) / 1]\r"
     ]
    },
    {
     "name": "stdout",
     "output_type": "stream",
     "text": [
      "+----------------+---------------+-----------------+----------------+--------------+---------------+\n",
      "|pickup_longitude|pickup_latitude|dropoff_longitude|dropoff_latitude|pickup_borough|dropoff_borough|\n",
      "+----------------+---------------+-----------------+----------------+--------------+---------------+\n",
      "|      -73.978165|      40.757977|       -73.989838|       40.751171|     Manhattan|      Manhattan|\n",
      "|      -74.006683|      40.731781|       -73.994499|        40.75066|     Manhattan|      Manhattan|\n",
      "|      -74.004707|       40.73777|       -74.009834|       40.726002|     Manhattan|      Manhattan|\n",
      "|      -73.974602|      40.759945|       -73.984734|       40.759388|     Manhattan|      Manhattan|\n",
      "|       -73.97625|      40.748528|       -74.002586|       40.747868|     Manhattan|      Manhattan|\n",
      "|      -73.966743|      40.764252|       -73.983322|       40.743763|     Manhattan|      Manhattan|\n",
      "|      -73.995804|      40.743977|       -74.007416|       40.744343|     Manhattan|      Manhattan|\n",
      "|      -73.989937|      40.756775|        -73.86525|        40.77063|     Manhattan|         Queens|\n",
      "|      -73.980072|      40.743137|       -73.982712|       40.735336|     Manhattan|      Manhattan|\n",
      "|      -73.977936|      40.786983|       -73.952919|        40.80637|     Manhattan|      Manhattan|\n",
      "|      -73.982452|      40.773167|       -73.964134|       40.773815|     Manhattan|      Manhattan|\n",
      "|       -73.99556|      40.749294|       -73.988686|       40.759052|     Manhattan|      Manhattan|\n",
      "|      -73.971497|      40.791321|       -73.964478|       40.775921|     Manhattan|      Manhattan|\n",
      "|       -73.98851|      40.774307|       -73.981094|       40.755325|     Manhattan|      Manhattan|\n",
      "|      -73.994911|      40.723221|       -73.971558|       40.761612|     Manhattan|      Manhattan|\n",
      "|      -74.010391|      40.708702|       -73.987846|       40.756104|     Manhattan|      Manhattan|\n",
      "|      -73.973732|      40.756287|       -73.998413|       40.756832|     Manhattan|      Manhattan|\n",
      "|      -73.968925|      40.767704|        -73.96199|       40.776566|     Manhattan|      Manhattan|\n",
      "|       -73.96212|      40.769737|       -73.979561|        40.75539|     Manhattan|      Manhattan|\n",
      "|      -73.989708|      40.756714|       -73.977615|       40.787575|     Manhattan|      Manhattan|\n",
      "+----------------+---------------+-----------------+----------------+--------------+---------------+\n",
      "only showing top 20 rows\n",
      "\n"
     ]
    },
    {
     "name": "stderr",
     "output_type": "stream",
     "text": [
      "                                                                                \r"
     ]
    }
   ],
   "source": [
    "# Load the GeoJSON file with boroughs using GeoPandas\n",
    "gdf = gpd.read_file(\"local/nyc-boroughs.geojson\")\n",
    "\n",
    "# Calculate the area of each polygon and add it as a new column\n",
    "gdf['area'] = gdf.geometry.area\n",
    "\n",
    "# Sort the GeoDataFrame by area in descending order\n",
    "sorted_gdf = gdf.sort_values(by='area', ascending=False)\n",
    "\n",
    "# Define a User Defined Function (UDF) to find the borough for a given point\n",
    "def get_borough(longitude, latitude):\n",
    "    point = Point(float(longitude), float(latitude))\n",
    "    for index, row in sorted_gdf.iterrows():\n",
    "        if row['geometry'].contains(point):\n",
    "            return row['borough']\n",
    "    return \"Unknown\"\n",
    "\n",
    "get_borough_udf = udf(get_borough, StringType())\n",
    "\n",
    "# Create new columns for pickup and drop-off boroughs in DataFrame 'df_1'\n",
    "df_1 = df_1.withColumn(\"pickup_borough\", get_borough_udf(df_1[\"pickup_longitude\"], df_1[\"pickup_latitude\"]))\n",
    "df_1 = df_1.withColumn(\"dropoff_borough\", get_borough_udf(df_1[\"dropoff_longitude\"], df_1[\"dropoff_latitude\"]))\n",
    "\n",
    "# Show the DataFrame with enriched data\n",
    "df_1.select(\"pickup_longitude\", \"pickup_latitude\", \"dropoff_longitude\", \"dropoff_latitude\", \"pickup_borough\", \"dropoff_borough\").show()\n"
   ]
  },
  {
   "cell_type": "code",
   "execution_count": 42,
   "id": "12f93c6b",
   "metadata": {},
   "outputs": [
    {
     "name": "stderr",
     "output_type": "stream",
     "text": [
      "                                                                                \r"
     ]
    }
   ],
   "source": [
    "# Convert PySpark DataFrame 'df_1' to a Pandas DataFrame\n",
    "df_2=df_1.toPandas()"
   ]
  },
  {
   "cell_type": "code",
   "execution_count": 43,
   "id": "4579bfc2",
   "metadata": {},
   "outputs": [],
   "source": [
    "# Create a condition based on the \"pickup_borough\" column in Pandas DataFrame 'df_1'\n",
    "condition=df_2[\"pickup_borough\"]==\"Unknown\""
   ]
  },
  {
   "cell_type": "code",
   "execution_count": 45,
   "id": "df8846cc",
   "metadata": {},
   "outputs": [
    {
     "data": {
      "text/html": [
       "<div>\n",
       "<style scoped>\n",
       "    .dataframe tbody tr th:only-of-type {\n",
       "        vertical-align: middle;\n",
       "    }\n",
       "\n",
       "    .dataframe tbody tr th {\n",
       "        vertical-align: top;\n",
       "    }\n",
       "\n",
       "    .dataframe thead th {\n",
       "        text-align: right;\n",
       "    }\n",
       "</style>\n",
       "<table border=\"1\" class=\"dataframe\">\n",
       "  <thead>\n",
       "    <tr style=\"text-align: right;\">\n",
       "      <th></th>\n",
       "      <th>medallion</th>\n",
       "      <th>hack_license</th>\n",
       "      <th>pickup_datetime</th>\n",
       "      <th>dropoff_datetime</th>\n",
       "      <th>passenger_count</th>\n",
       "      <th>pickup_longitude</th>\n",
       "      <th>pickup_latitude</th>\n",
       "      <th>dropoff_longitude</th>\n",
       "      <th>dropoff_latitude</th>\n",
       "      <th>pickup_borough</th>\n",
       "      <th>dropoff_borough</th>\n",
       "    </tr>\n",
       "  </thead>\n",
       "  <tbody>\n",
       "    <tr>\n",
       "      <th>73</th>\n",
       "      <td>DDB3F3E0172B1FBF0C9E39CA773CC6E3</td>\n",
       "      <td>559F071794B7213986693B57DCEDDEE5</td>\n",
       "      <td>07-01-13 22:19</td>\n",
       "      <td>07-01-13 22:39</td>\n",
       "      <td>1</td>\n",
       "      <td>0.0</td>\n",
       "      <td>0.0</td>\n",
       "      <td>0.0</td>\n",
       "      <td>0.0</td>\n",
       "      <td>Unknown</td>\n",
       "      <td>Unknown</td>\n",
       "    </tr>\n",
       "    <tr>\n",
       "      <th>95</th>\n",
       "      <td>0428E3DD09EA5A63D85509C7CA8C0199</td>\n",
       "      <td>A4B0B563E94A1C3ADA0B308161EDCB5A</td>\n",
       "      <td>07-01-13 16:19</td>\n",
       "      <td>07-01-13 16:24</td>\n",
       "      <td>1</td>\n",
       "      <td>0.0</td>\n",
       "      <td>0.0</td>\n",
       "      <td>0.0</td>\n",
       "      <td>0.0</td>\n",
       "      <td>Unknown</td>\n",
       "      <td>Unknown</td>\n",
       "    </tr>\n",
       "    <tr>\n",
       "      <th>99</th>\n",
       "      <td>DDB3F3E0172B1FBF0C9E39CA773CC6E3</td>\n",
       "      <td>559F071794B7213986693B57DCEDDEE5</td>\n",
       "      <td>07-01-13 18:42</td>\n",
       "      <td>07-01-13 18:49</td>\n",
       "      <td>1</td>\n",
       "      <td>0.0</td>\n",
       "      <td>0.0</td>\n",
       "      <td>0.0</td>\n",
       "      <td>0.0</td>\n",
       "      <td>Unknown</td>\n",
       "      <td>Unknown</td>\n",
       "    </tr>\n",
       "    <tr>\n",
       "      <th>100</th>\n",
       "      <td>DDB3F3E0172B1FBF0C9E39CA773CC6E3</td>\n",
       "      <td>559F071794B7213986693B57DCEDDEE5</td>\n",
       "      <td>07-01-13 20:19</td>\n",
       "      <td>07-01-13 20:23</td>\n",
       "      <td>1</td>\n",
       "      <td>0.0</td>\n",
       "      <td>0.0</td>\n",
       "      <td>0.0</td>\n",
       "      <td>0.0</td>\n",
       "      <td>Unknown</td>\n",
       "      <td>Unknown</td>\n",
       "    </tr>\n",
       "    <tr>\n",
       "      <th>199</th>\n",
       "      <td>6F70DA82F52A1281E4E6646AE996D25A</td>\n",
       "      <td>4103ADCF50D18CFE25AB616F368A5945</td>\n",
       "      <td>13-01-13 4:38</td>\n",
       "      <td>13-01-13 4:44</td>\n",
       "      <td>2</td>\n",
       "      <td>0.0</td>\n",
       "      <td>0.0</td>\n",
       "      <td>0.0</td>\n",
       "      <td>0.0</td>\n",
       "      <td>Unknown</td>\n",
       "      <td>Unknown</td>\n",
       "    </tr>\n",
       "    <tr>\n",
       "      <th>...</th>\n",
       "      <td>...</td>\n",
       "      <td>...</td>\n",
       "      <td>...</td>\n",
       "      <td>...</td>\n",
       "      <td>...</td>\n",
       "      <td>...</td>\n",
       "      <td>...</td>\n",
       "      <td>...</td>\n",
       "      <td>...</td>\n",
       "      <td>...</td>\n",
       "      <td>...</td>\n",
       "    </tr>\n",
       "    <tr>\n",
       "      <th>99759</th>\n",
       "      <td>1E2518C5129CB39312FBC7601C6D20ED</td>\n",
       "      <td>A736098D0C7144E35AA10EDB13F30F32</td>\n",
       "      <td>13-01-13 18:47</td>\n",
       "      <td>13-01-13 18:59</td>\n",
       "      <td>1</td>\n",
       "      <td>0.0</td>\n",
       "      <td>0.0</td>\n",
       "      <td>0.0</td>\n",
       "      <td>0.0</td>\n",
       "      <td>Unknown</td>\n",
       "      <td>Unknown</td>\n",
       "    </tr>\n",
       "    <tr>\n",
       "      <th>99825</th>\n",
       "      <td>6F28ECF71E4400A1BBF94EE809238BDC</td>\n",
       "      <td>7A2019218608E584ECA826E19C92851A</td>\n",
       "      <td>13-01-13 19:29</td>\n",
       "      <td>13-01-13 19:39</td>\n",
       "      <td>5</td>\n",
       "      <td>0.0</td>\n",
       "      <td>0.0</td>\n",
       "      <td>0.0</td>\n",
       "      <td>0.0</td>\n",
       "      <td>Unknown</td>\n",
       "      <td>Unknown</td>\n",
       "    </tr>\n",
       "    <tr>\n",
       "      <th>99886</th>\n",
       "      <td>D03EFBB5896A151FEB225F5DE544B88E</td>\n",
       "      <td>6FE0B1BAF7C02770543368A3AE37B7C9</td>\n",
       "      <td>13-01-13 19:27</td>\n",
       "      <td>13-01-13 19:34</td>\n",
       "      <td>1</td>\n",
       "      <td>0.0</td>\n",
       "      <td>0.0</td>\n",
       "      <td>0.0</td>\n",
       "      <td>0.0</td>\n",
       "      <td>Unknown</td>\n",
       "      <td>Unknown</td>\n",
       "    </tr>\n",
       "    <tr>\n",
       "      <th>99899</th>\n",
       "      <td>BE0396EBC842E52F724D6E724900C117</td>\n",
       "      <td>2A43B8DCB392C65C552DF21BDFE4D70F</td>\n",
       "      <td>13-01-13 17:36</td>\n",
       "      <td>13-01-13 17:36</td>\n",
       "      <td>1</td>\n",
       "      <td>0.0</td>\n",
       "      <td>0.0</td>\n",
       "      <td>0.0</td>\n",
       "      <td>0.0</td>\n",
       "      <td>Unknown</td>\n",
       "      <td>Unknown</td>\n",
       "    </tr>\n",
       "    <tr>\n",
       "      <th>99989</th>\n",
       "      <td>11FA7B67C4A21E1D7235E7D7EFC873AF</td>\n",
       "      <td>56B3D4A55C62CFFECA7BCCD7E01413D7</td>\n",
       "      <td>13-01-13 19:33</td>\n",
       "      <td>13-01-13 19:41</td>\n",
       "      <td>3</td>\n",
       "      <td>0.0</td>\n",
       "      <td>0.0</td>\n",
       "      <td>0.0</td>\n",
       "      <td>0.0</td>\n",
       "      <td>Unknown</td>\n",
       "      <td>Unknown</td>\n",
       "    </tr>\n",
       "  </tbody>\n",
       "</table>\n",
       "<p>1940 rows × 11 columns</p>\n",
       "</div>"
      ],
      "text/plain": [
       "                              medallion                      hack_license  \\\n",
       "73     DDB3F3E0172B1FBF0C9E39CA773CC6E3  559F071794B7213986693B57DCEDDEE5   \n",
       "95     0428E3DD09EA5A63D85509C7CA8C0199  A4B0B563E94A1C3ADA0B308161EDCB5A   \n",
       "99     DDB3F3E0172B1FBF0C9E39CA773CC6E3  559F071794B7213986693B57DCEDDEE5   \n",
       "100    DDB3F3E0172B1FBF0C9E39CA773CC6E3  559F071794B7213986693B57DCEDDEE5   \n",
       "199    6F70DA82F52A1281E4E6646AE996D25A  4103ADCF50D18CFE25AB616F368A5945   \n",
       "...                                 ...                               ...   \n",
       "99759  1E2518C5129CB39312FBC7601C6D20ED  A736098D0C7144E35AA10EDB13F30F32   \n",
       "99825  6F28ECF71E4400A1BBF94EE809238BDC  7A2019218608E584ECA826E19C92851A   \n",
       "99886  D03EFBB5896A151FEB225F5DE544B88E  6FE0B1BAF7C02770543368A3AE37B7C9   \n",
       "99899  BE0396EBC842E52F724D6E724900C117  2A43B8DCB392C65C552DF21BDFE4D70F   \n",
       "99989  11FA7B67C4A21E1D7235E7D7EFC873AF  56B3D4A55C62CFFECA7BCCD7E01413D7   \n",
       "\n",
       "      pickup_datetime dropoff_datetime  passenger_count  pickup_longitude  \\\n",
       "73     07-01-13 22:19   07-01-13 22:39                1               0.0   \n",
       "95     07-01-13 16:19   07-01-13 16:24                1               0.0   \n",
       "99     07-01-13 18:42   07-01-13 18:49                1               0.0   \n",
       "100    07-01-13 20:19   07-01-13 20:23                1               0.0   \n",
       "199     13-01-13 4:38    13-01-13 4:44                2               0.0   \n",
       "...               ...              ...              ...               ...   \n",
       "99759  13-01-13 18:47   13-01-13 18:59                1               0.0   \n",
       "99825  13-01-13 19:29   13-01-13 19:39                5               0.0   \n",
       "99886  13-01-13 19:27   13-01-13 19:34                1               0.0   \n",
       "99899  13-01-13 17:36   13-01-13 17:36                1               0.0   \n",
       "99989  13-01-13 19:33   13-01-13 19:41                3               0.0   \n",
       "\n",
       "       pickup_latitude  dropoff_longitude  dropoff_latitude pickup_borough  \\\n",
       "73                 0.0                0.0               0.0        Unknown   \n",
       "95                 0.0                0.0               0.0        Unknown   \n",
       "99                 0.0                0.0               0.0        Unknown   \n",
       "100                0.0                0.0               0.0        Unknown   \n",
       "199                0.0                0.0               0.0        Unknown   \n",
       "...                ...                ...               ...            ...   \n",
       "99759              0.0                0.0               0.0        Unknown   \n",
       "99825              0.0                0.0               0.0        Unknown   \n",
       "99886              0.0                0.0               0.0        Unknown   \n",
       "99899              0.0                0.0               0.0        Unknown   \n",
       "99989              0.0                0.0               0.0        Unknown   \n",
       "\n",
       "      dropoff_borough  \n",
       "73            Unknown  \n",
       "95            Unknown  \n",
       "99            Unknown  \n",
       "100           Unknown  \n",
       "199           Unknown  \n",
       "...               ...  \n",
       "99759         Unknown  \n",
       "99825         Unknown  \n",
       "99886         Unknown  \n",
       "99899         Unknown  \n",
       "99989         Unknown  \n",
       "\n",
       "[1940 rows x 11 columns]"
      ]
     },
     "execution_count": 45,
     "metadata": {},
     "output_type": "execute_result"
    }
   ],
   "source": [
    "df_2[condition]"
   ]
  },
  {
   "cell_type": "code",
   "execution_count": 49,
   "id": "b37aec19",
   "metadata": {},
   "outputs": [],
   "source": [
    "# Create an alias \"df1\" for DataFrame \"df_1\"\n",
    "df_3 = df_1.alias(\"df_1\")\n"
   ]
  },
  {
   "cell_type": "code",
   "execution_count": 50,
   "id": "aa41acc5",
   "metadata": {},
   "outputs": [],
   "source": [
    "# Set the time parser policy to \"LEGACY\" in Spark configuration\n",
    "spark.conf.set(\"spark.sql.legacy.timeParserPolicy\", \"LEGACY\")\n"
   ]
  },
  {
   "cell_type": "code",
   "execution_count": 53,
   "id": "93017fe6",
   "metadata": {},
   "outputs": [],
   "source": [
    "# Perform transformations on DataFrame 'df_3'\n",
    "df_3 = (df_3\n",
    "    # Convert \"pickup_datetime\" and \"dropoff_datetime\" columns to timestamp format\n",
    "    .withColumn(\"pickup_datetime\", to_timestamp(col(\"pickup_datetime\"), \"dd-MM-yy HH:mm\"))\n",
    "    .withColumn(\"dropoff_datetime\", to_timestamp(col(\"dropoff_datetime\"), \"dd-MM-yy HH:mm\"))\n",
    "    # Create \"hour_pickup\" and \"hour_dropoff\" columns with \"HH:mm\" format\n",
    "    .withColumn(\"hour_pickup\", concat(lpad(hour(\"pickup_datetime\"), 2, '0'),\n",
    "                                         lit(\":\"),\n",
    "                                         lpad(minute(\"pickup_datetime\"), 2, '0')))\n",
    "    .withColumn(\"hour_dropoff\", concat(lpad(hour(\"dropoff_datetime\"), 2, '0'),\n",
    "                                          lit(\":\"),\n",
    "                                          lpad(minute(\"dropoff_datetime\"), 2, '0')))\n",
    ")\n"
   ]
  },
  {
   "cell_type": "code",
   "execution_count": 54,
   "id": "3f05376e",
   "metadata": {},
   "outputs": [
    {
     "name": "stdout",
     "output_type": "stream",
     "text": [
      "+-------------------+-------------------+-----------+------------+\n",
      "|    pickup_datetime|   dropoff_datetime|hour_pickup|hour_dropoff|\n",
      "+-------------------+-------------------+-----------+------------+\n",
      "|2013-01-01 15:11:00|2013-01-01 15:18:00|      15:11|       15:18|\n",
      "|2013-01-06 00:18:00|2013-01-06 00:22:00|      00:18|       00:22|\n",
      "|2013-01-05 18:49:00|2013-01-05 18:54:00|      18:49|       18:54|\n",
      "|2013-01-07 23:54:00|2013-01-07 23:58:00|      23:54|       23:58|\n",
      "|2013-01-07 23:25:00|2013-01-07 23:34:00|      23:25|       23:34|\n",
      "|2013-01-07 15:27:00|2013-01-07 15:38:00|      15:27|       15:38|\n",
      "|2013-01-08 11:01:00|2013-01-08 11:08:00|      11:01|       11:08|\n",
      "|2013-01-07 12:39:00|2013-01-07 13:10:00|      12:39|       13:10|\n",
      "|2013-01-07 18:15:00|2013-01-07 18:20:00|      18:15|       18:20|\n",
      "|2013-01-07 15:33:00|2013-01-07 15:49:00|      15:33|       15:49|\n",
      "|2013-01-08 13:11:00|2013-01-08 13:19:00|      13:11|       13:19|\n",
      "|2013-01-08 09:50:00|2013-01-08 10:02:00|      09:50|       10:02|\n",
      "|2013-01-10 12:07:00|2013-01-10 12:17:00|      12:07|       12:17|\n",
      "|2013-01-07 07:35:00|2013-01-07 07:46:00|      07:35|       07:46|\n",
      "|2013-01-10 15:42:00|2013-01-10 16:04:00|      15:42|       16:04|\n",
      "|2013-01-10 14:27:00|2013-01-10 14:45:00|      14:27|       14:45|\n",
      "|2013-01-07 22:09:00|2013-01-07 22:19:00|      22:09|       22:19|\n",
      "|2013-01-07 17:18:00|2013-01-07 17:20:00|      17:18|       17:20|\n",
      "|2013-01-07 06:08:00|2013-01-07 06:13:00|      06:08|       06:13|\n",
      "|2013-01-07 22:25:00|2013-01-07 22:36:00|      22:25|       22:36|\n",
      "+-------------------+-------------------+-----------+------------+\n",
      "only showing top 20 rows\n",
      "\n"
     ]
    }
   ],
   "source": [
    "# Select and display specific columns from DataFrame 'df_3'\n",
    "df_3.select(\"pickup_datetime\", \"dropoff_datetime\", \"hour_pickup\", \"hour_dropoff\").show()\n"
   ]
  },
  {
   "cell_type": "markdown",
   "id": "f94859e6",
   "metadata": {},
   "source": [
    "### Preprocesing : Time Interval calculation for Utilization\n"
   ]
  },
  {
   "cell_type": "code",
   "execution_count": 60,
   "id": "890e01e7",
   "metadata": {},
   "outputs": [],
   "source": [
    "# Create an alias \"df_4\" for DataFrame 'df_3'\n",
    "df_4 = df_3.alias('df_3')\n"
   ]
  },
  {
   "cell_type": "code",
   "execution_count": 61,
   "id": "37d8673b",
   "metadata": {},
   "outputs": [],
   "source": [
    "# Define a window specification for partitioning and ordering\n",
    "windowSpec = Window.partitionBy(\"medallion\", \"hack_license\").orderBy(\"hour_pickup\")\n"
   ]
  },
  {
   "cell_type": "code",
   "execution_count": 62,
   "id": "7d289703",
   "metadata": {},
   "outputs": [],
   "source": [
    "# Add a column with the previous drop-off time using the defined window specification\n",
    "df_4 = df_4.withColumn(\"previous_dropoff_time\", lag(df_4[\"hour_dropoff\"]).over(windowSpec))\n"
   ]
  },
  {
   "cell_type": "code",
   "execution_count": 65,
   "id": "719b4593",
   "metadata": {},
   "outputs": [],
   "source": [
    "# Convert the \"hour_pickup\" and \"previous_dropoff_time\" columns to Unix timestamps\n",
    "df_4 = df_4.withColumn(\"pickup_hour_unix\", unix_timestamp(df_4[\"hour_pickup\"], \"HH:mm\"))\n",
    "df_4 = df_4.withColumn(\"previous_dropoff_time_unix\", unix_timestamp(df_4[\"previous_dropoff_time\"], \"HH:mm\"))\n",
    "\n",
    "# Calculate the difference in hours\n",
    "df_4 = df_4.withColumn(\"diff_hours\", (df_4[\"pickup_hour_unix\"] - df_4[\"previous_dropoff_time_unix\"]) / 3600)\n",
    "\n",
    "# Drop Unix timestamp columns if necessary\n",
    "df_4 = df_4.drop(\"pickup_hour_unix\", \"previous_dropoff_time_unix\")\n"
   ]
  },
  {
   "cell_type": "code",
   "execution_count": 66,
   "id": "fbeea039",
   "metadata": {},
   "outputs": [],
   "source": [
    "# Remove records with NULL values in the \"previous_dropoff_time\" column\n",
    "df_4 = df_4.filter(df_4[\"previous_dropoff_time\"].isNotNull())\n"
   ]
  },
  {
   "cell_type": "markdown",
   "id": "610bc9de",
   "metadata": {},
   "source": [
    "## Question 1 : Utilization: This is per taxi/driver."
   ]
  },
  {
   "cell_type": "code",
   "execution_count": 67,
   "id": "2c30ac09",
   "metadata": {},
   "outputs": [],
   "source": [
    "# Create an alias \"df_5\" for DataFrame 'df_4'\n",
    "df_5 = df_4.alias('df_4')\n"
   ]
  },
  {
   "cell_type": "code",
   "execution_count": 68,
   "id": "29529de1",
   "metadata": {},
   "outputs": [],
   "source": [
    "# Filter the DataFrame to keep only rows where the \"diff_hours\" column is less than 4\n",
    "df_5 = df_5.filter(col(\"diff_hours\") < 4)\n"
   ]
  },
  {
   "cell_type": "code",
   "execution_count": 69,
   "id": "a631fb79",
   "metadata": {},
   "outputs": [],
   "source": [
    "# Create an alias \"df5_Utilization\" for DataFrame 'df_5'\n",
    "df_5_Utilization = df_5.alias(\"df_5\")\n"
   ]
  },
  {
   "cell_type": "code",
   "execution_count": 70,
   "id": "3525ccbd",
   "metadata": {},
   "outputs": [],
   "source": [
    "# Group by \"dropoff_borough\" and calculate the sum of \"diff_hours\" for utilization\n",
    "df_5_Utilization = df_5_Utilization.groupBy(\"dropoff_borough\").agg({\"diff_hours\": \"sum\"})\n"
   ]
  },
  {
   "cell_type": "code",
   "execution_count": 71,
   "id": "756e19d1",
   "metadata": {},
   "outputs": [
    {
     "name": "stderr",
     "output_type": "stream",
     "text": [
      "                                                                                \r"
     ]
    },
    {
     "name": "stdout",
     "output_type": "stream",
     "text": [
      "+---------------+------------------+\n",
      "|dropoff_borough|   sum(diff_hours)|\n",
      "+---------------+------------------+\n",
      "|         Queens|2056.1666666666656|\n",
      "|        Unknown|  828.566666666667|\n",
      "|       Brooklyn|1117.6166666666659|\n",
      "|  Staten Island|0.8666666666666666|\n",
      "|      Manhattan|21311.666666666628|\n",
      "|          Bronx| 127.7333333333333|\n",
      "+---------------+------------------+\n",
      "\n"
     ]
    }
   ],
   "source": [
    "# Display the DataFrame with utilization information\n",
    "df_5_Utilization.show()\n"
   ]
  },
  {
   "cell_type": "markdown",
   "id": "e269f80f",
   "metadata": {},
   "source": [
    "## Question 2 : The average time it takes for a taxi to find its next fare(trip) per destination borough\n"
   ]
  },
  {
   "cell_type": "code",
   "execution_count": 72,
   "id": "e70767ca",
   "metadata": {},
   "outputs": [],
   "source": [
    "# Create an alias \"df_6\" for DataFrame 'df_3'\n",
    "df_6 = df_3.alias(\"df_3\")\n"
   ]
  },
  {
   "cell_type": "code",
   "execution_count": 75,
   "id": "f2bc3db8",
   "metadata": {},
   "outputs": [],
   "source": [
    "# Calculate the time to the next pickup for each row\n",
    "df_6 = df_6.withColumn(\"next_pickup_time\", lead(\"pickup_datetime\").over(Window.partitionBy(\"medallion\").orderBy(\"pickup_datetime\")))\n",
    "\n",
    "# Calculate the time difference in seconds\n",
    "df_6 = df_6.withColumn(\"time_to_next_trip\", (unix_timestamp(\"next_pickup_time\") - unix_timestamp(\"dropoff_datetime\")))\n",
    "\n",
    "# Filter records where the time difference is positive (next trips)\n",
    "df_6 = df_6.filter(col(\"time_to_next_trip\") > 0)\n",
    "\n",
    "# Group by destination borough and calculate the average time to the next trip\n",
    "df_6_avg_time_next_trip = df_6.groupBy(\"dropoff_borough\").agg(avg(\"time_to_next_trip\").alias(\"avg_time_to_next_trip\"))\n"
   ]
  },
  {
   "cell_type": "code",
   "execution_count": 76,
   "id": "3817cc3c",
   "metadata": {},
   "outputs": [
    {
     "name": "stderr",
     "output_type": "stream",
     "text": [
      "                                                                                \r"
     ]
    },
    {
     "name": "stdout",
     "output_type": "stream",
     "text": [
      "+---------------+---------------------+\n",
      "|dropoff_borough|avg_time_to_next_trip|\n",
      "+---------------+---------------------+\n",
      "|         Queens|    6389.721592080841|\n",
      "|        Unknown|    12310.46313799622|\n",
      "|       Brooklyn|   6581.6850047154985|\n",
      "|  Staten Island|              13935.0|\n",
      "|      Manhattan|   2077.1937111374436|\n",
      "|          Bronx|    4973.719008264463|\n",
      "+---------------+---------------------+\n",
      "\n"
     ]
    }
   ],
   "source": [
    "df_6_avg_time_next_trip.show()"
   ]
  },
  {
   "cell_type": "markdown",
   "id": "6efd1809",
   "metadata": {},
   "source": [
    "## Question 3: Number of trips that started and ended within the same borough"
   ]
  },
  {
   "cell_type": "code",
   "execution_count": 81,
   "id": "202cc074",
   "metadata": {},
   "outputs": [],
   "source": [
    "# Create or replace a temporary view named \"taxi_trips\" for DataFrame 'df_3'\n",
    "df_3.createOrReplaceTempView(\"taxi_trips\")"
   ]
  },
  {
   "cell_type": "code",
   "execution_count": 82,
   "id": "3a0a99e2",
   "metadata": {},
   "outputs": [],
   "source": [
    "# SQL query to calculate the number of trips within the same borough using the temporary view \"taxi_trips\"\n",
    "trips_within_same_borough = spark.sql(\"\"\"\n",
    "    SELECT\n",
    "        pickup_borough,\n",
    "        dropoff_borough,\n",
    "        COUNT(*) AS number_of_trips\n",
    "    FROM taxi_trips\n",
    "    WHERE pickup_borough = dropoff_borough\n",
    "    GROUP BY pickup_borough, dropoff_borough\n",
    "\"\"\")"
   ]
  },
  {
   "cell_type": "code",
   "execution_count": 83,
   "id": "a936cb24",
   "metadata": {},
   "outputs": [
    {
     "name": "stderr",
     "output_type": "stream",
     "text": [
      "[Stage 85:===========================================>              (3 + 1) / 4]\r"
     ]
    },
    {
     "name": "stdout",
     "output_type": "stream",
     "text": [
      "+--------------+---------------+---------------+\n",
      "|pickup_borough|dropoff_borough|number_of_trips|\n",
      "+--------------+---------------+---------------+\n",
      "|     Manhattan|      Manhattan|          83561|\n",
      "|      Brooklyn|       Brooklyn|           1065|\n",
      "|        Queens|         Queens|           1396|\n",
      "|         Bronx|          Bronx|             51|\n",
      "|       Unknown|        Unknown|           1805|\n",
      "| Staten Island|  Staten Island|              1|\n",
      "+--------------+---------------+---------------+\n",
      "\n"
     ]
    },
    {
     "name": "stderr",
     "output_type": "stream",
     "text": [
      "                                                                                \r"
     ]
    }
   ],
   "source": [
    "trips_within_same_borough.show()"
   ]
  },
  {
   "cell_type": "markdown",
   "id": "96028113",
   "metadata": {},
   "source": [
    "## Question 4 : The number of trips that started in one borough and ended in another one\n"
   ]
  },
  {
   "cell_type": "code",
   "execution_count": 84,
   "id": "a235c36f",
   "metadata": {},
   "outputs": [],
   "source": [
    "# SQL query to calculate the number of trips across different boroughs using the temporary view \"taxi_trips\"\n",
    "trips_across_boroughs = spark.sql(\"\"\"\n",
    "    SELECT\n",
    "        pickup_borough,\n",
    "        dropoff_borough,\n",
    "        COUNT(*) AS number_of_trips\n",
    "    FROM taxi_trips\n",
    "    WHERE pickup_borough <> dropoff_borough\n",
    "    GROUP BY pickup_borough, dropoff_borough\n",
    "\"\"\")\n"
   ]
  },
  {
   "cell_type": "code",
   "execution_count": 85,
   "id": "176f8982",
   "metadata": {},
   "outputs": [
    {
     "name": "stderr",
     "output_type": "stream",
     "text": [
      "                                                                                \r"
     ]
    },
    {
     "name": "stdout",
     "output_type": "stream",
     "text": [
      "+--------------+---------------+---------------+\n",
      "|pickup_borough|dropoff_borough|number_of_trips|\n",
      "+--------------+---------------+---------------+\n",
      "|      Brooklyn|      Manhattan|            774|\n",
      "|        Queens|          Bronx|            100|\n",
      "|         Bronx|         Queens|              2|\n",
      "| Staten Island|         Queens|              1|\n",
      "|       Unknown|      Manhattan|            106|\n",
      "|      Brooklyn|         Queens|            115|\n",
      "|        Queens|  Staten Island|              2|\n",
      "|     Manhattan|  Staten Island|              9|\n",
      "|        Queens|        Unknown|            119|\n",
      "|     Manhattan|       Brooklyn|           1923|\n",
      "|       Unknown|         Queens|             18|\n",
      "|       Unknown|  Staten Island|              1|\n",
      "|     Manhattan|         Queens|           3943|\n",
      "|      Brooklyn|        Unknown|             11|\n",
      "|     Manhattan|          Bronx|            244|\n",
      "|        Queens|      Manhattan|           3698|\n",
      "|         Bronx|      Manhattan|             25|\n",
      "|       Unknown|       Brooklyn|             10|\n",
      "|         Bronx|        Unknown|              3|\n",
      "|        Queens|       Brooklyn|            597|\n",
      "+--------------+---------------+---------------+\n",
      "only showing top 20 rows\n",
      "\n"
     ]
    }
   ],
   "source": [
    "trips_across_boroughs.show()"
   ]
  },
  {
   "cell_type": "code",
   "execution_count": null,
   "id": "28ee312a",
   "metadata": {},
   "outputs": [],
   "source": []
  }
 ],
 "metadata": {
  "kernelspec": {
   "display_name": "Python 3 (ipykernel)",
   "language": "python",
   "name": "python3"
  },
  "language_info": {
   "codemirror_mode": {
    "name": "ipython",
    "version": 3
   },
   "file_extension": ".py",
   "mimetype": "text/x-python",
   "name": "python",
   "nbconvert_exporter": "python",
   "pygments_lexer": "ipython3",
   "version": "3.9.2"
  }
 },
 "nbformat": 4,
 "nbformat_minor": 5
}
